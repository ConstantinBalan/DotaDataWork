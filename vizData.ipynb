{
 "cells": [
  {
   "cell_type": "code",
   "execution_count": null,
   "metadata": {},
   "outputs": [],
   "source": [
    "# all imports go here\n",
    "import requests\n",
    "import json\n",
    "import pandas as pd\n",
    "import os\n",
    "import sys"
   ]
  },
  {
   "cell_type": "code",
   "execution_count": null,
   "metadata": {},
   "outputs": [],
   "source": [
    "''' TODO : check if the get_from_api function works for MAC and possibly linux...'''\n",
    "\n",
    "print(\"Your OS System type is : \" , sys.platform)\n",
    "prefix = ''\n",
    "if sys.platform == 'darwin':\n",
    "    prefix = os.getcwd() + '/'"
   ]
  },
  {
   "cell_type": "code",
   "execution_count": null,
   "metadata": {},
   "outputs": [],
   "source": [
    "# Constants\n",
    "OS_TYPE = sys.platform\n",
    "API_URL = 'https://api.opendota.com/api'\n",
    "DATA_FOLDER = prefix + 'data'"
   ]
  },
  {
   "cell_type": "code",
   "execution_count": null,
   "metadata": {},
   "outputs": [],
   "source": [
    "''' \n",
    "    TODO :\n",
    "        * make this work for darwin os aka macs (paths need to be changed)\n",
    "'''\n",
    "# function to retrieve the data, \n",
    "#   - creates the /data folder if you dont have it\n",
    "#   - saves the file under /data/[GET_URL].csv \n",
    "#   - returns the dataframe for usage\n",
    "# only needs to be called IF YOU HAVEN'T RETRIEVED THE INFORMATION YOU NEED XDD\n",
    "\n",
    "def get_from_api(request_url, filename):\n",
    "    API_URL = 'https://api.opendota.com/api'\n",
    "    call_url= API_URL + request_url\n",
    "    response = requests.get(call_url)\n",
    "    raw_response = response.json()\n",
    "    \n",
    "    df = pd.DataFrame.from_records(raw_response)\n",
    "\n",
    "    if not os.path.isdir(DATA_FOLDER):\n",
    "        os.makedirs(DATA_FOLDER)\n",
    "    \n",
    "    df.to_csv(DATA_FOLDER+'/'+filename+'.csv')\n",
    "\n",
    "    return df\n",
    "    \n"
   ]
  },
  {
   "attachments": {},
   "cell_type": "markdown",
   "metadata": {},
   "source": [
    "The GET_URL is an option from the get_requests.md file, and the needsAPICall should be set to False if you already have the file in the /data folder and don't need to retrieve new."
   ]
  },
  {
   "cell_type": "code",
   "execution_count": null,
   "metadata": {},
   "outputs": [],
   "source": [
    "\n",
    "# according to the links mentioned above\n",
    "GET_URL = '/publicMatches'\n",
    "# stripping url so that we can use it to name the dataframe file\n",
    "stripped_url = GET_URL.replace('/','') \n",
    "# if you don't want to retrieve the dataframe again \n",
    "# and again you can set this to False\n",
    "needsAPICall = True"
   ]
  },
  {
   "cell_type": "code",
   "execution_count": null,
   "metadata": {},
   "outputs": [],
   "source": [
    "if needsAPICall:\n",
    "    df_to_use = get_from_api(GET_URL, stripped_url)\n",
    "else:\n",
    "    df_to_use = pd.read_csv(DATA_FOLDER+'/'+stripped_url+'.csv')\n",
    "\n",
    "df_to_use.head(5)\n"
   ]
  }
 ],
 "metadata": {
  "kernelspec": {
   "display_name": "Python 3",
   "language": "python",
   "name": "python3"
  },
  "language_info": {
   "codemirror_mode": {
    "name": "ipython",
    "version": 3
   },
   "file_extension": ".py",
   "mimetype": "text/x-python",
   "name": "python",
   "nbconvert_exporter": "python",
   "pygments_lexer": "ipython3",
   "version": "3.10.4"
  },
  "orig_nbformat": 4,
  "vscode": {
   "interpreter": {
    "hash": "26de051ba29f2982a8de78e945f0abaf191376122a1563185a90213a26c5da77"
   }
  }
 },
 "nbformat": 4,
 "nbformat_minor": 2
}
